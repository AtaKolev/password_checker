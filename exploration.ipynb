{
 "cells": [
  {
   "cell_type": "code",
   "execution_count": 1,
   "metadata": {},
   "outputs": [],
   "source": [
    "import pandas as pd\n",
    "import numpy as np\n",
    "import matplotlib.pyplot as plt\n",
    "import seaborn as sns"
   ]
  },
  {
   "cell_type": "code",
   "execution_count": 21,
   "metadata": {},
   "outputs": [],
   "source": [
    "dataframe = pd.read_csv('rockyou.txt',\n",
    "                        delimiter = \"\\t\", \n",
    "                        header = None, \n",
    "                        names = [\"Passwords\"],\n",
    "                        encoding = \"ISO-8859-1\")"
   ]
  },
  {
   "cell_type": "code",
   "execution_count": 22,
   "metadata": {},
   "outputs": [
    {
     "data": {
      "text/html": [
       "<div>\n",
       "<style scoped>\n",
       "    .dataframe tbody tr th:only-of-type {\n",
       "        vertical-align: middle;\n",
       "    }\n",
       "\n",
       "    .dataframe tbody tr th {\n",
       "        vertical-align: top;\n",
       "    }\n",
       "\n",
       "    .dataframe thead th {\n",
       "        text-align: right;\n",
       "    }\n",
       "</style>\n",
       "<table border=\"1\" class=\"dataframe\">\n",
       "  <thead>\n",
       "    <tr style=\"text-align: right;\">\n",
       "      <th></th>\n",
       "      <th>Passwords</th>\n",
       "    </tr>\n",
       "  </thead>\n",
       "  <tbody>\n",
       "    <tr>\n",
       "      <th>0</th>\n",
       "      <td>123456</td>\n",
       "    </tr>\n",
       "    <tr>\n",
       "      <th>1</th>\n",
       "      <td>12345</td>\n",
       "    </tr>\n",
       "    <tr>\n",
       "      <th>2</th>\n",
       "      <td>123456789</td>\n",
       "    </tr>\n",
       "    <tr>\n",
       "      <th>3</th>\n",
       "      <td>password</td>\n",
       "    </tr>\n",
       "    <tr>\n",
       "      <th>4</th>\n",
       "      <td>iloveyou</td>\n",
       "    </tr>\n",
       "    <tr>\n",
       "      <th>...</th>\n",
       "      <td>...</td>\n",
       "    </tr>\n",
       "    <tr>\n",
       "      <th>14344092</th>\n",
       "      <td>\u001axCvBnM,</td>\n",
       "    </tr>\n",
       "    <tr>\n",
       "      <th>14344093</th>\n",
       "      <td>\bie168</td>\n",
       "    </tr>\n",
       "    <tr>\n",
       "      <th>14344094</th>\n",
       "      <td>\babygurl69</td>\n",
       "    </tr>\n",
       "    <tr>\n",
       "      <th>14344095</th>\n",
       "      <td>\ba6_123</td>\n",
       "    </tr>\n",
       "    <tr>\n",
       "      <th>14344096</th>\n",
       "      <td>\u0004*\u00037Â¡Vamos!\u0003</td>\n",
       "    </tr>\n",
       "  </tbody>\n",
       "</table>\n",
       "<p>14344097 rows × 1 columns</p>\n",
       "</div>"
      ],
      "text/plain": [
       "              Passwords\n",
       "0                123456\n",
       "1                 12345\n",
       "2             123456789\n",
       "3              password\n",
       "4              iloveyou\n",
       "...                 ...\n",
       "14344092       \u001axCvBnM,\n",
       "14344093         \bie168\n",
       "14344094     \babygurl69\n",
       "14344095        \ba6_123\n",
       "14344096  \u0004*\u00037Â¡Vamos!\u0003\n",
       "\n",
       "[14344097 rows x 1 columns]"
      ]
     },
     "execution_count": 22,
     "metadata": {},
     "output_type": "execute_result"
    }
   ],
   "source": [
    "dataframe"
   ]
  },
  {
   "cell_type": "code",
   "execution_count": 26,
   "metadata": {},
   "outputs": [
    {
     "data": {
      "text/html": [
       "<div>\n",
       "<style scoped>\n",
       "    .dataframe tbody tr th:only-of-type {\n",
       "        vertical-align: middle;\n",
       "    }\n",
       "\n",
       "    .dataframe tbody tr th {\n",
       "        vertical-align: top;\n",
       "    }\n",
       "\n",
       "    .dataframe thead th {\n",
       "        text-align: right;\n",
       "    }\n",
       "</style>\n",
       "<table border=\"1\" class=\"dataframe\">\n",
       "  <thead>\n",
       "    <tr style=\"text-align: right;\">\n",
       "      <th></th>\n",
       "      <th>Passwords</th>\n",
       "    </tr>\n",
       "  </thead>\n",
       "  <tbody>\n",
       "    <tr>\n",
       "      <th>0</th>\n",
       "      <td>123456</td>\n",
       "    </tr>\n",
       "    <tr>\n",
       "      <th>1</th>\n",
       "      <td>12345</td>\n",
       "    </tr>\n",
       "    <tr>\n",
       "      <th>2</th>\n",
       "      <td>123456789</td>\n",
       "    </tr>\n",
       "    <tr>\n",
       "      <th>3</th>\n",
       "      <td>password</td>\n",
       "    </tr>\n",
       "    <tr>\n",
       "      <th>4</th>\n",
       "      <td>iloveyou</td>\n",
       "    </tr>\n",
       "    <tr>\n",
       "      <th>...</th>\n",
       "      <td>...</td>\n",
       "    </tr>\n",
       "    <tr>\n",
       "      <th>14344092</th>\n",
       "      <td>\u001axCvBnM,</td>\n",
       "    </tr>\n",
       "    <tr>\n",
       "      <th>14344093</th>\n",
       "      <td>\bie168</td>\n",
       "    </tr>\n",
       "    <tr>\n",
       "      <th>14344094</th>\n",
       "      <td>\babygurl69</td>\n",
       "    </tr>\n",
       "    <tr>\n",
       "      <th>14344095</th>\n",
       "      <td>\ba6_123</td>\n",
       "    </tr>\n",
       "    <tr>\n",
       "      <th>14344096</th>\n",
       "      <td>\u0004*\u00037Â¡Vamos!\u0003</td>\n",
       "    </tr>\n",
       "  </tbody>\n",
       "</table>\n",
       "<p>14344097 rows × 1 columns</p>\n",
       "</div>"
      ],
      "text/plain": [
       "              Passwords\n",
       "0                123456\n",
       "1                 12345\n",
       "2             123456789\n",
       "3              password\n",
       "4              iloveyou\n",
       "...                 ...\n",
       "14344092       \u001axCvBnM,\n",
       "14344093         \bie168\n",
       "14344094     \babygurl69\n",
       "14344095        \ba6_123\n",
       "14344096  \u0004*\u00037Â¡Vamos!\u0003\n",
       "\n",
       "[14344097 rows x 1 columns]"
      ]
     },
     "execution_count": 26,
     "metadata": {},
     "output_type": "execute_result"
    }
   ],
   "source": [
    "dataframe[~dataframe['Passwords'].isin([' '])]"
   ]
  },
  {
   "cell_type": "code",
   "execution_count": 31,
   "metadata": {},
   "outputs": [
    {
     "data": {
      "text/plain": [
       "Passwords    [, \u0004, *, \u0003, 7, Â, ¡, V, a, m, o, s, !, \u0003, ]\n",
       "Name: 14344096, dtype: object"
      ]
     },
     "execution_count": 31,
     "metadata": {},
     "output_type": "execute_result"
    }
   ],
   "source": [
    "dataframe.iloc[-1].str.split('')"
   ]
  },
  {
   "cell_type": "code",
   "execution_count": null,
   "metadata": {},
   "outputs": [],
   "source": []
  },
  {
   "cell_type": "code",
   "execution_count": null,
   "metadata": {},
   "outputs": [],
   "source": []
  },
  {
   "cell_type": "code",
   "execution_count": null,
   "metadata": {},
   "outputs": [],
   "source": []
  },
  {
   "cell_type": "code",
   "execution_count": null,
   "metadata": {},
   "outputs": [],
   "source": []
  },
  {
   "cell_type": "code",
   "execution_count": null,
   "metadata": {},
   "outputs": [],
   "source": []
  },
  {
   "cell_type": "code",
   "execution_count": null,
   "metadata": {},
   "outputs": [],
   "source": []
  },
  {
   "cell_type": "code",
   "execution_count": null,
   "metadata": {},
   "outputs": [],
   "source": []
  }
 ],
 "metadata": {
  "kernelspec": {
   "display_name": "base",
   "language": "python",
   "name": "python3"
  },
  "language_info": {
   "codemirror_mode": {
    "name": "ipython",
    "version": 3
   },
   "file_extension": ".py",
   "mimetype": "text/x-python",
   "name": "python",
   "nbconvert_exporter": "python",
   "pygments_lexer": "ipython3",
   "version": "3.9.13"
  },
  "orig_nbformat": 4
 },
 "nbformat": 4,
 "nbformat_minor": 2
}
